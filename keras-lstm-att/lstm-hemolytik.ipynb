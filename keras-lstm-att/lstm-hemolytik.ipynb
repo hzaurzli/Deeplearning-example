{
 "cells": [
  {
   "cell_type": "code",
   "execution_count": 1,
   "id": "bdeac6a4",
   "metadata": {},
   "outputs": [],
   "source": [
    "import pandas as pd\n",
    "import numpy as np\n",
    "import matplotlib.pyplot as plt"
   ]
  },
  {
   "cell_type": "code",
   "execution_count": 2,
   "id": "0c58d3fd",
   "metadata": {},
   "outputs": [
    {
     "data": {
      "text/html": [
       "<div>\n",
       "<style scoped>\n",
       "    .dataframe tbody tr th:only-of-type {\n",
       "        vertical-align: middle;\n",
       "    }\n",
       "\n",
       "    .dataframe tbody tr th {\n",
       "        vertical-align: top;\n",
       "    }\n",
       "\n",
       "    .dataframe thead th {\n",
       "        text-align: right;\n",
       "    }\n",
       "</style>\n",
       "<table border=\"1\" class=\"dataframe\">\n",
       "  <thead>\n",
       "    <tr style=\"text-align: right;\">\n",
       "      <th></th>\n",
       "      <th>sequence</th>\n",
       "      <th>classification</th>\n",
       "    </tr>\n",
       "  </thead>\n",
       "  <tbody>\n",
       "    <tr>\n",
       "      <th>0</th>\n",
       "      <td>MEIKYLLTVFLVLLIVSDHCQAFLFSLIPHAISGLISAFKGRRKRD...</td>\n",
       "      <td>1</td>\n",
       "    </tr>\n",
       "    <tr>\n",
       "      <th>1</th>\n",
       "      <td>MEIKYLLTVFLVLLIVSDHCQAFLFSLIPNAISGLLSAFKGRRKRN...</td>\n",
       "      <td>1</td>\n",
       "    </tr>\n",
       "    <tr>\n",
       "      <th>2</th>\n",
       "      <td>MMIKIAVVLCAVMATSMVFANDVKEQELADLLDLLISEEVSSPDDA...</td>\n",
       "      <td>1</td>\n",
       "    </tr>\n",
       "    <tr>\n",
       "      <th>3</th>\n",
       "      <td>MNFKYIIAVSFLIASAYARSEEYDIQSLSQRDVLEEESLRKIRGIG...</td>\n",
       "      <td>1</td>\n",
       "    </tr>\n",
       "    <tr>\n",
       "      <th>4</th>\n",
       "      <td>MAFLKKSLFLVLFLGIVSLSVCEEEKREGEEKEEKREEEEGKEENE...</td>\n",
       "      <td>1</td>\n",
       "    </tr>\n",
       "  </tbody>\n",
       "</table>\n",
       "</div>"
      ],
      "text/plain": [
       "                                            sequence  classification\n",
       "0  MEIKYLLTVFLVLLIVSDHCQAFLFSLIPHAISGLISAFKGRRKRD...               1\n",
       "1  MEIKYLLTVFLVLLIVSDHCQAFLFSLIPNAISGLLSAFKGRRKRN...               1\n",
       "2  MMIKIAVVLCAVMATSMVFANDVKEQELADLLDLLISEEVSSPDDA...               1\n",
       "3  MNFKYIIAVSFLIASAYARSEEYDIQSLSQRDVLEEESLRKIRGIG...               1\n",
       "4  MAFLKKSLFLVLFLGIVSLSVCEEEKREGEEKEEKREEEEGKEENE...               1"
      ]
     },
     "execution_count": 2,
     "metadata": {},
     "output_type": "execute_result"
    }
   ],
   "source": [
    "df_pdb_data = pd.read_csv('/home/lijinquan/cAMP/hemolytik-peptide.csv')\n",
    "df_pdb_data.head()"
   ]
  },
  {
   "cell_type": "code",
   "execution_count": 3,
   "id": "80205aff",
   "metadata": {},
   "outputs": [
    {
     "name": "stdout",
     "output_type": "stream",
     "text": [
      "Unique Amino Acid Set...\n"
     ]
    }
   ],
   "source": [
    "from utilities.EmbeddingEncoder import EmbeddingEncoder\n",
    "\n",
    "embed_enoder = EmbeddingEncoder()\n",
    "\n",
    "embed_enoder.find_unique_amino_acids(df_pdb_data['sequence'])\n",
    "print(\"Unique Amino Acid Set...\")"
   ]
  },
  {
   "cell_type": "code",
   "execution_count": 4,
   "id": "67686c35",
   "metadata": {},
   "outputs": [
    {
     "name": "stdout",
     "output_type": "stream",
     "text": [
      "{'W': 0, 'K': 1, 'H': 2, 'G': 3, 'Z': 4, 'X': 5, 'C': 6, 'V': 7, 'Q': 8, 'M': 9, 'D': 10, 'I': 11, 'F': 12, 'L': 13, 'E': 14, 'T': 15, 'R': 16, 'A': 17, 'N': 18, 'P': 19, 'S': 20, 'Y': 21}\n"
     ]
    }
   ],
   "source": [
    "embed_enoder.create_embed_encoder()\n",
    "print(embed_enoder.embed_encoder)"
   ]
  },
  {
   "cell_type": "code",
   "execution_count": 5,
   "id": "b15006e0",
   "metadata": {},
   "outputs": [],
   "source": [
    "from utilities.DataPreProcessor import DataPreProcessor\n",
    "\n",
    "count_dict = df_pdb_data['classification'].value_counts().to_dict()\n",
    "data_pre_processor = DataPreProcessor(count_dict,embed_enoder,None)"
   ]
  },
  {
   "cell_type": "code",
   "execution_count": 6,
   "id": "46625edd",
   "metadata": {},
   "outputs": [
    {
     "name": "stdout",
     "output_type": "stream",
     "text": [
      "final Shape of the DataSet (11190, 2)\n"
     ]
    }
   ],
   "source": [
    "## delete least preferred sequences\n",
    "data_pre_processor.del_least_preferred()\n",
    "\n",
    "df_protein_seq_final_for_modeling = df_pdb_data[df_pdb_data['classification']\n",
    "        .isin(data_pre_processor.count_dict_keys_as_list())]\n",
    "\n",
    "df_protein_seq_final_for_modeling = df_protein_seq_final_for_modeling.reset_index(drop=True)\n",
    "print(\"final Shape of the DataSet {}\".format(df_protein_seq_final_for_modeling.shape))\n"
   ]
  },
  {
   "cell_type": "code",
   "execution_count": 7,
   "id": "beac2586",
   "metadata": {},
   "outputs": [
    {
     "name": "stdout",
     "output_type": "stream",
     "text": [
      "final Shape of the DataSet (3866, 2)\n"
     ]
    }
   ],
   "source": [
    "df_protein_seq_final_for_modeling = \\\n",
    "    df_protein_seq_final_for_modeling[df_protein_seq_final_for_modeling.apply(\n",
    "        lambda x: len(x['sequence']) <=70 and len(x['sequence']) >=5 ,axis=1\n",
    "    )]\n",
    "\n",
    "\n",
    "print(\"final Shape of the DataSet {}\".format(df_protein_seq_final_for_modeling.shape))"
   ]
  },
  {
   "cell_type": "code",
   "execution_count": 8,
   "id": "74e18a1a",
   "metadata": {},
   "outputs": [],
   "source": [
    "X_sequences = df_protein_seq_final_for_modeling['sequence']\n",
    "y_label = df_protein_seq_final_for_modeling['classification']"
   ]
  },
  {
   "cell_type": "code",
   "execution_count": 9,
   "id": "c117e31d",
   "metadata": {},
   "outputs": [
    {
     "name": "stdout",
     "output_type": "stream",
     "text": [
      "Getting Processed Seqs\n",
      "(3866, 1200)\n",
      "getting labels\n",
      "(3866, 2)\n",
      "<utilities.DataPreProcessor.DataPreProcessor object at 0x7f4d7dc21790>\n"
     ]
    }
   ],
   "source": [
    "## test process sequences\n",
    "\n",
    "data_pre_processor.process_seqs_to_embeddings(X_sequences,y_label,1200)\n",
    "print(\"Getting Processed Seqs\")\n",
    "print(data_pre_processor.get_x().shape)\n",
    "print(\"getting labels\")\n",
    "print(data_pre_processor.get_y().shape)\n",
    "# print(\"getting protein categories\")\n",
    "# print(data_pre_processor.get_protein_categoeies())\n",
    "\n",
    "\n",
    "print(data_pre_processor)"
   ]
  },
  {
   "cell_type": "code",
   "execution_count": 11,
   "id": "0e103fe2",
   "metadata": {},
   "outputs": [],
   "source": [
    "from keras.layers import LSTM\n",
    "from keras.layers import Dense\n",
    "from keras.models import Sequential\n",
    "from keras.layers import Flatten\n",
    "from keras.layers import Embedding\n",
    "from keras.layers import Dropout\n",
    "from keras.layers import SpatialDropout1D\n",
    "from keras import regularizers\n",
    "\n",
    "\n"
   ]
  },
  {
   "cell_type": "code",
   "execution_count": 15,
   "id": "16cc1eea",
   "metadata": {},
   "outputs": [
    {
     "name": "stdout",
     "output_type": "stream",
     "text": [
      "Model: \"sequential_2\"\n",
      "_________________________________________________________________\n",
      " Layer (type)                Output Shape              Param #   \n",
      "=================================================================\n",
      " embedding_2 (Embedding)     (None, 1200, 300)         1500000   \n",
      "                                                                 \n",
      " lstm_6 (LSTM)               (None, 1200, 100)         160400    \n",
      "                                                                 \n",
      " lstm_7 (LSTM)               (None, 1200, 100)         80400     \n",
      "                                                                 \n",
      " lstm_8 (LSTM)               (None, 100)               80400     \n",
      "                                                                 \n",
      " dense_2 (Dense)             (None, 2)                 202       \n",
      "                                                                 \n",
      "=================================================================\n",
      "Total params: 1,821,402\n",
      "Trainable params: 1,821,402\n",
      "Non-trainable params: 0\n",
      "_________________________________________________________________\n",
      "None\n"
     ]
    }
   ],
   "source": [
    "embed_vol = 5000\n",
    "embed_dim = 300\n",
    "num_features = 25\n",
    "max_seq_length = 1200\n",
    "## AAs are supposed to be integer encoded for embedding layer \n",
    "\n",
    "model = Sequential()\n",
    "model.add(Embedding(embed_vol,embed_dim,input_length=data_pre_processor.get_x().shape[1]))\n",
    "model.add(LSTM(100,dropout=0.2, recurrent_dropout=0.2,return_sequences=True,\n",
    "               recurrent_regularizer=regularizers.l2(0.02)))\n",
    "model.add(LSTM(100,return_sequences=True,recurrent_regularizer=regularizers.l2(0.01)))\n",
    "model.add(LSTM(100))\n",
    "model.add(Dense(len(data_pre_processor.get_protein_categoeies()),activation='softmax'))\n",
    "model.compile(loss='categorical_crossentropy', optimizer='adam', metrics=['accuracy'])\n",
    "print(model.summary())\n"
   ]
  },
  {
   "cell_type": "code",
   "execution_count": 16,
   "id": "bf36ecba",
   "metadata": {},
   "outputs": [
    {
     "data": {
      "text/plain": [
       "array([[0, 1],\n",
       "       [1, 0],\n",
       "       [0, 1],\n",
       "       ...,\n",
       "       [0, 1],\n",
       "       [1, 0],\n",
       "       [1, 0]], dtype=uint8)"
      ]
     },
     "execution_count": 16,
     "metadata": {},
     "output_type": "execute_result"
    }
   ],
   "source": [
    "from sklearn.model_selection import train_test_split\n",
    "X_train, X_test, y_train, y_test = train_test_split(data_pre_processor.get_x(), \n",
    "                                                    data_pre_processor.get_y(), \n",
    "                                                    test_size=0.30, random_state=42)\n",
    "\n",
    "\n",
    "X_train\n",
    "y_train\n"
   ]
  },
  {
   "cell_type": "code",
   "execution_count": 18,
   "id": "9eb6eb80",
   "metadata": {},
   "outputs": [
    {
     "name": "stdout",
     "output_type": "stream",
     "text": [
      "Epoch 1/100\n",
      "60/60 [==============================] - 125s 2s/step - loss: 1.9778 - accuracy: 0.4937 - val_loss: 1.0763 - val_accuracy: 0.4951\n",
      "Epoch 2/100\n",
      "60/60 [==============================] - 124s 2s/step - loss: 0.8653 - accuracy: 0.4937 - val_loss: 0.7483 - val_accuracy: 0.5049\n",
      "Epoch 3/100\n",
      "60/60 [==============================] - 125s 2s/step - loss: 0.7190 - accuracy: 0.5111 - val_loss: 0.7016 - val_accuracy: 0.5049\n",
      "Epoch 4/100\n",
      "60/60 [==============================] - 125s 2s/step - loss: 0.6971 - accuracy: 0.5111 - val_loss: 0.6946 - val_accuracy: 0.5049\n",
      "Epoch 5/100\n",
      "60/60 [==============================] - 125s 2s/step - loss: 0.6938 - accuracy: 0.5111 - val_loss: 0.6934 - val_accuracy: 0.5049\n",
      "Epoch 6/100\n",
      "60/60 [==============================] - 125s 2s/step - loss: 0.6931 - accuracy: 0.5111 - val_loss: 0.6932 - val_accuracy: 0.5049\n",
      "Epoch 7/100\n",
      "60/60 [==============================] - 126s 2s/step - loss: 0.6932 - accuracy: 0.5111 - val_loss: 0.6931 - val_accuracy: 0.5049\n",
      "Epoch 8/100\n",
      "60/60 [==============================] - 127s 2s/step - loss: 0.6933 - accuracy: 0.5005 - val_loss: 0.6931 - val_accuracy: 0.5049\n",
      "Epoch 9/100\n",
      "60/60 [==============================] - 126s 2s/step - loss: 0.6931 - accuracy: 0.5111 - val_loss: 0.6932 - val_accuracy: 0.5049\n",
      "Epoch 10/100\n",
      "60/60 [==============================] - 129s 2s/step - loss: 0.6930 - accuracy: 0.5111 - val_loss: 0.6932 - val_accuracy: 0.5049\n",
      "Epoch 11/100\n",
      "60/60 [==============================] - 128s 2s/step - loss: 0.6931 - accuracy: 0.5111 - val_loss: 0.6931 - val_accuracy: 0.5049\n",
      "Epoch 12/100\n",
      "60/60 [==============================] - 127s 2s/step - loss: 0.6930 - accuracy: 0.5111 - val_loss: 0.6932 - val_accuracy: 0.5049\n",
      "Epoch 13/100\n",
      "60/60 [==============================] - 128s 2s/step - loss: 0.6930 - accuracy: 0.5111 - val_loss: 0.6932 - val_accuracy: 0.5049\n",
      "Epoch 14/100\n",
      "60/60 [==============================] - 127s 2s/step - loss: 0.6931 - accuracy: 0.5111 - val_loss: 0.6932 - val_accuracy: 0.5049\n",
      "Epoch 15/100\n",
      "60/60 [==============================] - 128s 2s/step - loss: 0.6945 - accuracy: 0.5058 - val_loss: 0.6936 - val_accuracy: 0.5049\n",
      "Epoch 16/100\n",
      "60/60 [==============================] - 127s 2s/step - loss: 0.6931 - accuracy: 0.5111 - val_loss: 0.6932 - val_accuracy: 0.5049\n",
      "Epoch 17/100\n",
      "60/60 [==============================] - 127s 2s/step - loss: 0.6931 - accuracy: 0.5111 - val_loss: 0.6931 - val_accuracy: 0.5049\n",
      "Epoch 18/100\n",
      "60/60 [==============================] - 127s 2s/step - loss: 0.6932 - accuracy: 0.5111 - val_loss: 0.6937 - val_accuracy: 0.5049\n",
      "Epoch 19/100\n",
      "60/60 [==============================] - 128s 2s/step - loss: 0.6932 - accuracy: 0.5111 - val_loss: 0.6932 - val_accuracy: 0.5049\n",
      "Epoch 20/100\n",
      "60/60 [==============================] - 128s 2s/step - loss: 0.6932 - accuracy: 0.5111 - val_loss: 0.6932 - val_accuracy: 0.5049\n",
      "Epoch 21/100\n",
      "60/60 [==============================] - 129s 2s/step - loss: 0.6930 - accuracy: 0.5111 - val_loss: 0.6932 - val_accuracy: 0.5049\n",
      "Epoch 22/100\n",
      "60/60 [==============================] - 128s 2s/step - loss: 0.6930 - accuracy: 0.5111 - val_loss: 0.6932 - val_accuracy: 0.5049\n",
      "Epoch 23/100\n",
      "60/60 [==============================] - 129s 2s/step - loss: 0.6930 - accuracy: 0.5111 - val_loss: 0.6931 - val_accuracy: 0.5049\n",
      "Epoch 24/100\n",
      "60/60 [==============================] - 129s 2s/step - loss: 0.6931 - accuracy: 0.5111 - val_loss: 0.6931 - val_accuracy: 0.5049\n",
      "Epoch 25/100\n",
      "60/60 [==============================] - 129s 2s/step - loss: 0.6930 - accuracy: 0.5111 - val_loss: 0.6932 - val_accuracy: 0.5049\n",
      "Epoch 26/100\n",
      "60/60 [==============================] - 129s 2s/step - loss: 0.6930 - accuracy: 0.5111 - val_loss: 0.6932 - val_accuracy: 0.5049\n",
      "Epoch 27/100\n",
      "60/60 [==============================] - 130s 2s/step - loss: 0.6930 - accuracy: 0.5111 - val_loss: 0.6932 - val_accuracy: 0.5049\n",
      "Epoch 28/100\n",
      "60/60 [==============================] - 130s 2s/step - loss: 0.6931 - accuracy: 0.5111 - val_loss: 0.6931 - val_accuracy: 0.5049\n",
      "Epoch 29/100\n",
      "60/60 [==============================] - 130s 2s/step - loss: 0.6930 - accuracy: 0.5111 - val_loss: 0.6932 - val_accuracy: 0.5049\n",
      "Epoch 30/100\n",
      "60/60 [==============================] - 130s 2s/step - loss: 0.6933 - accuracy: 0.5111 - val_loss: 0.6931 - val_accuracy: 0.5049\n",
      "Epoch 31/100\n",
      "60/60 [==============================] - 130s 2s/step - loss: 0.6930 - accuracy: 0.5111 - val_loss: 0.6932 - val_accuracy: 0.5049\n",
      "Epoch 32/100\n",
      "60/60 [==============================] - 130s 2s/step - loss: 0.6930 - accuracy: 0.5111 - val_loss: 0.6932 - val_accuracy: 0.5049\n",
      "Epoch 33/100\n",
      "60/60 [==============================] - 131s 2s/step - loss: 0.6930 - accuracy: 0.5111 - val_loss: 0.6932 - val_accuracy: 0.5049\n",
      "Epoch 34/100\n",
      "60/60 [==============================] - 131s 2s/step - loss: 0.6930 - accuracy: 0.5111 - val_loss: 0.6932 - val_accuracy: 0.5049\n",
      "Epoch 35/100\n",
      "60/60 [==============================] - 131s 2s/step - loss: 0.6932 - accuracy: 0.5111 - val_loss: 0.6932 - val_accuracy: 0.5049\n",
      "Epoch 36/100\n",
      "60/60 [==============================] - 131s 2s/step - loss: 0.6931 - accuracy: 0.5111 - val_loss: 0.6932 - val_accuracy: 0.5049\n",
      "Epoch 37/100\n",
      "60/60 [==============================] - 131s 2s/step - loss: 0.6930 - accuracy: 0.5111 - val_loss: 0.6932 - val_accuracy: 0.5049\n",
      "Epoch 38/100\n",
      "60/60 [==============================] - 131s 2s/step - loss: 0.6930 - accuracy: 0.5111 - val_loss: 0.6931 - val_accuracy: 0.5049\n",
      "Epoch 39/100\n",
      "60/60 [==============================] - 132s 2s/step - loss: 0.6931 - accuracy: 0.5111 - val_loss: 0.6931 - val_accuracy: 0.5049\n",
      "Epoch 40/100\n",
      "60/60 [==============================] - 132s 2s/step - loss: 0.6931 - accuracy: 0.5042 - val_loss: 0.6931 - val_accuracy: 0.5049\n",
      "Epoch 41/100\n",
      "60/60 [==============================] - 132s 2s/step - loss: 0.6930 - accuracy: 0.5111 - val_loss: 0.6931 - val_accuracy: 0.5049\n",
      "Epoch 42/100\n",
      "60/60 [==============================] - 132s 2s/step - loss: 0.6931 - accuracy: 0.5111 - val_loss: 0.6931 - val_accuracy: 0.5049\n",
      "Epoch 43/100\n",
      "60/60 [==============================] - 132s 2s/step - loss: 0.6930 - accuracy: 0.5111 - val_loss: 0.6932 - val_accuracy: 0.5049\n",
      "Epoch 44/100\n",
      "60/60 [==============================] - 132s 2s/step - loss: 0.6930 - accuracy: 0.5111 - val_loss: 0.6932 - val_accuracy: 0.5049\n",
      "Epoch 45/100\n",
      "60/60 [==============================] - 132s 2s/step - loss: 0.6931 - accuracy: 0.5111 - val_loss: 0.6932 - val_accuracy: 0.5049\n",
      "Epoch 46/100\n",
      "60/60 [==============================] - 132s 2s/step - loss: 0.6930 - accuracy: 0.5111 - val_loss: 0.6932 - val_accuracy: 0.5049\n",
      "Epoch 47/100\n",
      "60/60 [==============================] - 133s 2s/step - loss: 0.6930 - accuracy: 0.5111 - val_loss: 0.6932 - val_accuracy: 0.5049\n",
      "Epoch 48/100\n",
      "60/60 [==============================] - 133s 2s/step - loss: 0.6930 - accuracy: 0.5111 - val_loss: 0.6932 - val_accuracy: 0.5049\n",
      "Epoch 49/100\n",
      "60/60 [==============================] - 133s 2s/step - loss: 0.6930 - accuracy: 0.5111 - val_loss: 0.6932 - val_accuracy: 0.5049\n",
      "Epoch 50/100\n",
      "60/60 [==============================] - 134s 2s/step - loss: 0.6930 - accuracy: 0.5111 - val_loss: 0.6932 - val_accuracy: 0.5049\n",
      "Epoch 51/100\n",
      "60/60 [==============================] - 133s 2s/step - loss: 0.6930 - accuracy: 0.5111 - val_loss: 0.6932 - val_accuracy: 0.5049\n",
      "Epoch 52/100\n",
      "60/60 [==============================] - 134s 2s/step - loss: 0.6931 - accuracy: 0.5111 - val_loss: 0.6932 - val_accuracy: 0.5049\n",
      "Epoch 53/100\n",
      "60/60 [==============================] - 134s 2s/step - loss: 0.6930 - accuracy: 0.5111 - val_loss: 0.6932 - val_accuracy: 0.5049\n",
      "Epoch 54/100\n",
      "60/60 [==============================] - 134s 2s/step - loss: 0.6931 - accuracy: 0.5111 - val_loss: 0.6933 - val_accuracy: 0.5049\n",
      "Epoch 55/100\n",
      "60/60 [==============================] - 134s 2s/step - loss: 0.6930 - accuracy: 0.5111 - val_loss: 0.6932 - val_accuracy: 0.5049\n",
      "Epoch 56/100\n",
      "60/60 [==============================] - 135s 2s/step - loss: 0.6930 - accuracy: 0.5111 - val_loss: 0.6932 - val_accuracy: 0.5049\n",
      "Epoch 57/100\n",
      "60/60 [==============================] - 135s 2s/step - loss: 0.6930 - accuracy: 0.5111 - val_loss: 0.6932 - val_accuracy: 0.5049\n",
      "Epoch 58/100\n"
     ]
    },
    {
     "name": "stdout",
     "output_type": "stream",
     "text": [
      "60/60 [==============================] - 135s 2s/step - loss: 0.6930 - accuracy: 0.5111 - val_loss: 0.6932 - val_accuracy: 0.5049\n",
      "Epoch 59/100\n",
      "60/60 [==============================] - 135s 2s/step - loss: 0.6930 - accuracy: 0.5111 - val_loss: 0.6932 - val_accuracy: 0.5049\n",
      "Epoch 60/100\n",
      "60/60 [==============================] - 135s 2s/step - loss: 0.6930 - accuracy: 0.5111 - val_loss: 0.6932 - val_accuracy: 0.5049\n",
      "Epoch 61/100\n",
      "60/60 [==============================] - 135s 2s/step - loss: 0.6930 - accuracy: 0.5111 - val_loss: 0.6932 - val_accuracy: 0.5049\n",
      "Epoch 62/100\n",
      "60/60 [==============================] - 135s 2s/step - loss: 0.6930 - accuracy: 0.5111 - val_loss: 0.6931 - val_accuracy: 0.5049\n",
      "Epoch 63/100\n",
      "60/60 [==============================] - 135s 2s/step - loss: 0.6931 - accuracy: 0.5111 - val_loss: 0.6931 - val_accuracy: 0.5049\n",
      "Epoch 64/100\n",
      "60/60 [==============================] - 135s 2s/step - loss: 0.6931 - accuracy: 0.5111 - val_loss: 0.6932 - val_accuracy: 0.5049\n",
      "Epoch 65/100\n",
      "60/60 [==============================] - 135s 2s/step - loss: 0.6931 - accuracy: 0.5111 - val_loss: 0.6931 - val_accuracy: 0.5049\n",
      "Epoch 66/100\n",
      "60/60 [==============================] - 136s 2s/step - loss: 0.6931 - accuracy: 0.5111 - val_loss: 0.6931 - val_accuracy: 0.5049\n",
      "Epoch 67/100\n",
      "60/60 [==============================] - 136s 2s/step - loss: 0.6930 - accuracy: 0.5111 - val_loss: 0.6931 - val_accuracy: 0.5049\n",
      "Epoch 68/100\n",
      "60/60 [==============================] - 136s 2s/step - loss: 0.6929 - accuracy: 0.5111 - val_loss: 0.6932 - val_accuracy: 0.5049\n",
      "Epoch 69/100\n",
      "60/60 [==============================] - 136s 2s/step - loss: 0.6930 - accuracy: 0.5111 - val_loss: 0.6931 - val_accuracy: 0.5049\n",
      "Epoch 70/100\n",
      "60/60 [==============================] - 136s 2s/step - loss: 0.6929 - accuracy: 0.5111 - val_loss: 0.6932 - val_accuracy: 0.5049\n",
      "Epoch 71/100\n",
      "60/60 [==============================] - 136s 2s/step - loss: 0.6929 - accuracy: 0.5111 - val_loss: 0.6932 - val_accuracy: 0.5049\n",
      "Epoch 72/100\n",
      "60/60 [==============================] - 136s 2s/step - loss: 0.6930 - accuracy: 0.5111 - val_loss: 0.6931 - val_accuracy: 0.5049\n",
      "Epoch 73/100\n",
      "60/60 [==============================] - 136s 2s/step - loss: 0.6930 - accuracy: 0.5111 - val_loss: 0.6932 - val_accuracy: 0.5049\n",
      "Epoch 74/100\n",
      "60/60 [==============================] - 136s 2s/step - loss: 0.6930 - accuracy: 0.5111 - val_loss: 0.6932 - val_accuracy: 0.5049\n",
      "Epoch 75/100\n",
      "60/60 [==============================] - 136s 2s/step - loss: 0.6930 - accuracy: 0.5111 - val_loss: 0.6931 - val_accuracy: 0.5049\n",
      "Epoch 76/100\n",
      "60/60 [==============================] - 136s 2s/step - loss: 0.6930 - accuracy: 0.5111 - val_loss: 0.6931 - val_accuracy: 0.5049\n",
      "Epoch 77/100\n",
      "60/60 [==============================] - 137s 2s/step - loss: 0.6930 - accuracy: 0.5111 - val_loss: 0.6932 - val_accuracy: 0.5049\n",
      "Epoch 78/100\n",
      "60/60 [==============================] - 136s 2s/step - loss: 0.6931 - accuracy: 0.5111 - val_loss: 0.6932 - val_accuracy: 0.5049\n",
      "Epoch 79/100\n",
      "60/60 [==============================] - 137s 2s/step - loss: 0.6930 - accuracy: 0.5111 - val_loss: 0.6932 - val_accuracy: 0.5049\n",
      "Epoch 80/100\n",
      "60/60 [==============================] - 137s 2s/step - loss: 0.6931 - accuracy: 0.5111 - val_loss: 0.6931 - val_accuracy: 0.5049\n",
      "Epoch 81/100\n",
      "60/60 [==============================] - 137s 2s/step - loss: 0.6958 - accuracy: 0.5216 - val_loss: 0.6934 - val_accuracy: 0.5049\n",
      "Epoch 82/100\n",
      "60/60 [==============================] - 137s 2s/step - loss: 0.6931 - accuracy: 0.5111 - val_loss: 0.6933 - val_accuracy: 0.5049\n",
      "Epoch 83/100\n",
      "60/60 [==============================] - 137s 2s/step - loss: 0.6931 - accuracy: 0.5111 - val_loss: 0.6932 - val_accuracy: 0.5049\n",
      "Epoch 84/100\n",
      "60/60 [==============================] - 137s 2s/step - loss: 0.6930 - accuracy: 0.5111 - val_loss: 0.6932 - val_accuracy: 0.5049\n",
      "Epoch 85/100\n",
      "60/60 [==============================] - 137s 2s/step - loss: 0.6930 - accuracy: 0.5111 - val_loss: 0.6932 - val_accuracy: 0.5049\n",
      "Epoch 86/100\n",
      "60/60 [==============================] - 137s 2s/step - loss: 0.6930 - accuracy: 0.5111 - val_loss: 0.6932 - val_accuracy: 0.5049\n",
      "Epoch 87/100\n",
      "60/60 [==============================] - 137s 2s/step - loss: 0.6930 - accuracy: 0.5111 - val_loss: 0.6932 - val_accuracy: 0.5049\n",
      "Epoch 88/100\n",
      "60/60 [==============================] - 139s 2s/step - loss: 0.6930 - accuracy: 0.5111 - val_loss: 0.6931 - val_accuracy: 0.5049\n",
      "Epoch 89/100\n",
      "60/60 [==============================] - 138s 2s/step - loss: 0.6930 - accuracy: 0.5111 - val_loss: 0.6931 - val_accuracy: 0.5049\n",
      "Epoch 90/100\n",
      "60/60 [==============================] - 136s 2s/step - loss: 0.6930 - accuracy: 0.5111 - val_loss: 0.6932 - val_accuracy: 0.5049\n",
      "Epoch 91/100\n",
      "60/60 [==============================] - 137s 2s/step - loss: 0.6930 - accuracy: 0.5111 - val_loss: 0.6932 - val_accuracy: 0.5049\n",
      "Epoch 92/100\n",
      "60/60 [==============================] - 138s 2s/step - loss: 0.6930 - accuracy: 0.5111 - val_loss: 0.6931 - val_accuracy: 0.5049\n",
      "Epoch 93/100\n",
      "60/60 [==============================] - 139s 2s/step - loss: 0.6929 - accuracy: 0.5111 - val_loss: 0.6932 - val_accuracy: 0.5049\n",
      "Epoch 94/100\n",
      "60/60 [==============================] - 138s 2s/step - loss: 0.6930 - accuracy: 0.5111 - val_loss: 0.6932 - val_accuracy: 0.5049\n",
      "Epoch 95/100\n",
      "60/60 [==============================] - 138s 2s/step - loss: 0.6930 - accuracy: 0.5111 - val_loss: 0.6932 - val_accuracy: 0.5049\n",
      "Epoch 96/100\n",
      "60/60 [==============================] - 138s 2s/step - loss: 0.6930 - accuracy: 0.5111 - val_loss: 0.6932 - val_accuracy: 0.5049\n",
      "Epoch 97/100\n",
      "60/60 [==============================] - 138s 2s/step - loss: 0.6930 - accuracy: 0.5111 - val_loss: 0.6932 - val_accuracy: 0.5049\n",
      "Epoch 98/100\n",
      "60/60 [==============================] - 138s 2s/step - loss: 0.6930 - accuracy: 0.5111 - val_loss: 0.6931 - val_accuracy: 0.5049\n",
      "Epoch 99/100\n",
      "60/60 [==============================] - 138s 2s/step - loss: 0.6929 - accuracy: 0.5111 - val_loss: 0.6932 - val_accuracy: 0.5049\n",
      "Epoch 100/100\n",
      "60/60 [==============================] - 139s 2s/step - loss: 0.6930 - accuracy: 0.5111 - val_loss: 0.6931 - val_accuracy: 0.5049\n"
     ]
    },
    {
     "data": {
      "image/png": "[encoded data removed]",
      "text/plain": [
       "<Figure size 640x480 with 1 Axes>"
      ]
     },
     "metadata": {},
     "output_type": "display_data"
    }
   ],
   "source": [
    "history = model.fit(X_train,y_train,epochs=100,verbose=1,batch_size=32,validation_split=0.3)\n",
    "\n",
    "plt.plot(history.history['loss'])\n",
    "plt.plot(history.history['val_loss'])\n",
    "plt.title('model train vs validation loss')\n",
    "plt.ylabel('loss')\n",
    "plt.xlabel('epoch')\n",
    "plt.legend(['train', 'validation'], loc='upper right')\n",
    "plt.show()\n"
   ]
  },
  {
   "cell_type": "code",
   "execution_count": null,
   "id": "f4efb84d",
   "metadata": {},
   "outputs": [],
   "source": [
    "score,acc = model.evaluate(X_test, y_test, verbose = 2, batch_size = 32)\n",
    "print(\"Score: %.2f\" % (score))\n",
    "print(\"Validation Accuracy: %.2f\" % (acc))\n",
    "\n"
   ]
  },
  {
   "cell_type": "code",
   "execution_count": null,
   "id": "0d75c716",
   "metadata": {},
   "outputs": [],
   "source": []
  }
 ],
 "metadata": {
  "kernelspec": {
   "display_name": "Python 3 (ipykernel)",
   "language": "python",
   "name": "python3"
  },
  "language_info": {
   "codemirror_mode": {
    "name": "ipython",
    "version": 3
   },
   "file_extension": ".py",
   "mimetype": "text/x-python",
   "name": "python",
   "nbconvert_exporter": "python",
   "pygments_lexer": "ipython3",
   "version": "3.9.15"
  }
 },
 "nbformat": 4,
 "nbformat_minor": 5
}
